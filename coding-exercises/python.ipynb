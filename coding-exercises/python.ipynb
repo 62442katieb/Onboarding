{
 "cells": [
  {
   "cell_type": "markdown",
   "metadata": {},
   "source": [
    "# A basic introduction to Python (and, by extension, coding)\n",
    "This is an extremely basic introduction to Python. To become more familiar with this language, please complete the [Codecademy](https://www.codecademy.com) Python course.\n",
    "\n",
    "For the sake of this introduction, we will assume that you have already installed Python 3 on your laptop, and that you have also installed each of the libraries needed for this tutorial. If you see errors like `ModuleNotFoundError: No module named 'XXXX'` when running this notebook, try installing the missing library using `pip` (e.g., `pip install XXXX`) in a separate terminal (not in the notebook)."
   ]
  },
  {
   "cell_type": "markdown",
   "metadata": {},
   "source": [
    "## Variables\n",
    "Variables come in classes, and each variable is an object of a given class. Each object has its own _methods_, which are functions specific to a given class.\n",
    "\n",
    "Variables can be named using any combination of letters, numbers, and underscores, as long as the name doesn't start with a number. You also don't want to name your variables the same as any of the Python keywords, which are variables that are reserved for built-in Python functions. These keywords will typically appear as a different color (e.g., green) in most IDEs or in Jupyter Notebooks.\n",
    "\n",
    "Some built-in variable types include strings, floats, integers, booleans, dictionaries, and lists."
   ]
  },
  {
   "cell_type": "markdown",
   "metadata": {},
   "source": [
    "### Strings\n",
    "Strings are for text and are defined using single or double quotes."
   ]
  },
  {
   "cell_type": "code",
   "execution_count": 1,
   "metadata": {},
   "outputs": [
    {
     "name": "stdout",
     "output_type": "stream",
     "text": [
      "str methods: capitalize, casefold, center, count, encode, endswith, expandtabs, find, format, format_map, index, isalnum, isalpha, isdecimal, isdigit, isidentifier, islower, isnumeric, isprintable, isspace, istitle, isupper, join, ljust, lower, lstrip, maketrans, partition, replace, rfind, rindex, rjust, rpartition, rsplit, rstrip, split, splitlines, startswith, strip, swapcase, title, translate, upper, zfill\n",
      "\n",
      "What is the string?\n",
      "hello world\n",
      "\n",
      "What is the string in title case?\n",
      "Hello World\n",
      "\n",
      "What is the string in upper case?\n",
      "HELLO WORLD\n",
      "\n",
      "Is the string lower case?\n",
      "True\n",
      "\n",
      "Is the string composed entirely of numbers?\n",
      "False\n",
      "\n",
      "Does the string start with \"hello\"?\n",
      "True\n"
     ]
    }
   ],
   "source": [
    "var1 = 'hello world'\n",
    "\n",
    "# We can see a list of the methods available for this new object with dir\n",
    "var1_methods = dir(var1)\n",
    "# I'm going to remove private methods (ones that start with _ or __) before printing them\n",
    "var1_methods = [method for method in var1_methods if not method.startswith('_')]\n",
    "print('str methods: {0}'.format(', '.join(var1_methods)))\n",
    "print()\n",
    "\n",
    "# As you can see, there are a lot of methods for strings\n",
    "# Let's check out a couple:\n",
    "# First we'll print out the original string\n",
    "print('What is the string?')\n",
    "print(var1)\n",
    "print()\n",
    "\n",
    "# Now let's look at the string in title case\n",
    "print('What is the string in title case?')\n",
    "print(var1.title())\n",
    "print()\n",
    "\n",
    "# Or capitalized\n",
    "print('What is the string in upper case?')\n",
    "print(var1.upper())\n",
    "print()\n",
    "\n",
    "# There are also methods for *inspecting* the object\n",
    "# Is the variable lower case?\n",
    "print('Is the string lower case?')\n",
    "print(var1.islower())\n",
    "print()\n",
    "\n",
    "# Is it composed of numbers?\n",
    "print('Is the string composed entirely of numbers?')\n",
    "print(var1.isdigit())\n",
    "print()\n",
    "\n",
    "# Does it start with the word \"hello\"?\n",
    "print('Does the string start with \"hello\"?')\n",
    "print(var1.startswith('hello'))"
   ]
  },
  {
   "cell_type": "markdown",
   "metadata": {},
   "source": [
    "### Floats and integers\n",
    "Numbers can be stored in quite a few classes (especially with the `numpy` library), but the two main built-in classes for numbers are `float` and `int`. \n",
    "\n",
    "To create either, you can simply define the variable with a number. Floats include a decimal, while integers do not."
   ]
  },
  {
   "cell_type": "code",
   "execution_count": 2,
   "metadata": {},
   "outputs": [
    {
     "name": "stdout",
     "output_type": "stream",
     "text": [
      "5 is a <class 'int'>\n",
      "5.0 is a <class 'float'>\n",
      "\n",
      "int methods: bit_length, conjugate, denominator, from_bytes, imag, numerator, real, to_bytes\n",
      "\n",
      "float methods: as_integer_ratio, conjugate, fromhex, hex, imag, is_integer, real\n",
      "\n",
      "Is the float number an integer?\n",
      "True\n",
      "\n",
      "Does the float start with \"hello\"?\n"
     ]
    },
    {
     "ename": "AttributeError",
     "evalue": "'float' object has no attribute 'startswith'",
     "output_type": "error",
     "traceback": [
      "\u001b[0;31m---------------------------------------------------------------------------\u001b[0m",
      "\u001b[0;31mAttributeError\u001b[0m                            Traceback (most recent call last)",
      "\u001b[0;32m<ipython-input-2-d0d88067a545>\u001b[0m in \u001b[0;36m<module>\u001b[0;34m()\u001b[0m\n\u001b[1;32m     24\u001b[0m \u001b[0;31m# above don't work with these variables\u001b[0m\u001b[0;34m\u001b[0m\u001b[0;34m\u001b[0m\u001b[0m\n\u001b[1;32m     25\u001b[0m \u001b[0mprint\u001b[0m\u001b[0;34m(\u001b[0m\u001b[0;34m'Does the float start with \"hello\"?'\u001b[0m\u001b[0;34m)\u001b[0m\u001b[0;34m\u001b[0m\u001b[0m\n\u001b[0;32m---> 26\u001b[0;31m \u001b[0mprint\u001b[0m\u001b[0;34m(\u001b[0m\u001b[0mvar3\u001b[0m\u001b[0;34m.\u001b[0m\u001b[0mstartswith\u001b[0m\u001b[0;34m(\u001b[0m\u001b[0;34m'hello'\u001b[0m\u001b[0;34m)\u001b[0m\u001b[0;34m)\u001b[0m\u001b[0;34m\u001b[0m\u001b[0m\n\u001b[0m",
      "\u001b[0;31mAttributeError\u001b[0m: 'float' object has no attribute 'startswith'"
     ]
    }
   ],
   "source": [
    "var2 = 5\n",
    "var3 = 5.\n",
    "print('{0} is a {1}'.format(var2, type(var2)))\n",
    "print('{0} is a {1}'.format(var3, type(var3)))\n",
    "print()\n",
    "\n",
    "# Let's see what methods each class has\n",
    "int_methods = dir(var2)\n",
    "int_methods = [method for method in int_methods if not method.startswith('_')]\n",
    "print('int methods: {0}'.format(', '.join(int_methods)))\n",
    "print()\n",
    "\n",
    "float_methods = dir(var3)\n",
    "float_methods = [method for method in float_methods if not method.startswith('_')]\n",
    "print('float methods: {0}'.format(', '.join(float_methods)))\n",
    "print()\n",
    "\n",
    "# Not as many methods as strings, but there are still some useful ones\n",
    "print('Is the float number an integer?')\n",
    "print(var3.is_integer())\n",
    "print()\n",
    "\n",
    "# You'll also notice that the string methods we explored\n",
    "# above don't work with these variables\n",
    "print('Does the float start with \"hello\"?')\n",
    "print(var3.startswith('hello'))"
   ]
  },
  {
   "cell_type": "markdown",
   "metadata": {},
   "source": [
    "### Booleans\n",
    "Booleans represent the true/false dichotomy. Booleans are defined using the keywords True and False."
   ]
  },
  {
   "cell_type": "code",
   "execution_count": 3,
   "metadata": {},
   "outputs": [
    {
     "name": "stdout",
     "output_type": "stream",
     "text": [
      "bool methods: as_integer_ratio, conjugate, fromhex, hex, imag, is_integer, real\n",
      "\n"
     ]
    }
   ],
   "source": [
    "var4 = True\n",
    "var5 = False\n",
    "\n",
    "bool_methods = dir(var3)\n",
    "bool_methods = [method for method in bool_methods if not method.startswith('_')]\n",
    "print('bool methods: {0}'.format(', '.join(bool_methods)))\n",
    "print()"
   ]
  },
  {
   "cell_type": "markdown",
   "metadata": {},
   "source": [
    "### Lists\n",
    "Lists contain... well, lists. You can put anything in your list, and there are many list-specific methods that make it easy to look through or manipulate your lists."
   ]
  },
  {
   "cell_type": "code",
   "execution_count": 4,
   "metadata": {},
   "outputs": [
    {
     "data": {
      "text/plain": [
       "5"
      ]
     },
     "execution_count": 4,
     "metadata": {},
     "output_type": "execute_result"
    }
   ],
   "source": [
    "some_lab_members = ['Angie', 'Matt', 'Cody', 'Mike', 'Veronica']\n",
    "len(some_lab_members)"
   ]
  },
  {
   "cell_type": "markdown",
   "metadata": {},
   "source": [
    "### Dictionaries\n",
    "Dictionaries also contain collections of items, but they link each item to a \"key\". You can access the item by looking up the associated key."
   ]
  },
  {
   "cell_type": "code",
   "execution_count": 5,
   "metadata": {},
   "outputs": [
    {
     "name": "stdout",
     "output_type": "stream",
     "text": [
      "Angie's full name is Angela Laird.\n",
      "Matt's full name is Matthew Sutherland.\n",
      "Cody's full name is Michael Riedel.\n",
      "Mike's full name is Michael Tobia.\n",
      "Veronica's full name is Veronica Del Prete.\n"
     ]
    }
   ],
   "source": [
    "# Suppose, for example, that you know each lab member's nickname \n",
    "# or preferred name, but you want to know their full names. You\n",
    "# can have a dictionary that links each nickname to each full name.\n",
    "full_names = {'Angie': 'Angela Laird',\n",
    "              'Matt': 'Matthew Sutherland',\n",
    "              'Cody': 'Michael Riedel',\n",
    "              'Mike': 'Michael Tobia',\n",
    "              'Veronica': 'Veronica Del Prete'}\n",
    "\n",
    "# You can then look up those full names:\n",
    "for member in some_lab_members:\n",
    "    print(\"{0}'s full name is {1}.\".format(member, full_names[member]))"
   ]
  },
  {
   "cell_type": "markdown",
   "metadata": {},
   "source": [
    "## Modules\n",
    "We can access additional functions and classes by loading modules. Some modules are provided by Python (e.g., `os` and `glob`), while others are developed by third parties (e.g., `numpy`, `scipy`, and just about 90% of the other libraries you'll be using).\n",
    "\n",
    "To access a module, you need to have it installed on your computer. There are a number of package managers, include `pip`, `homebrew`, and `conda`. Most the time, trying to install a library with `pip` is a safe bet."
   ]
  },
  {
   "cell_type": "code",
   "execution_count": 6,
   "metadata": {},
   "outputs": [
    {
     "name": "stdout",
     "output_type": "stream",
     "text": [
      "[1 2 3] is a <class 'numpy.ndarray'>\n",
      "\n",
      "numpy.ndarray methods: T, all, any, argmax, argmin, argpartition, argsort, astype, base, byteswap, choose, clip, compress, conj, conjugate, copy, ctypes, cumprod, cumsum, data, diagonal, dot, dtype, dump, dumps, fill, flags, flat, flatten, getfield, imag, item, itemset, itemsize, max, mean, min, nbytes, ndim, newbyteorder, nonzero, partition, prod, ptp, put, ravel, real, repeat, reshape, resize, round, searchsorted, setfield, setflags, shape, size, sort, squeeze, std, strides, sum, swapaxes, take, tobytes, tofile, tolist, tostring, trace, transpose, var, view\n",
      "\n"
     ]
    }
   ],
   "source": [
    "# We can import modules as is:\n",
    "import numpy\n",
    "\n",
    "# Or with aliases, to make them easier to type:\n",
    "import numpy as np\n",
    "\n",
    "# We can also import submodules or functions within modules:\n",
    "from numpy import random\n",
    "\n",
    "# We can even import everything from a module into the general namespace\n",
    "# But this is very much *NOT* recommended\n",
    "from numpy import *\n",
    "\n",
    "# For the rest of this tutorial (and all of the lab code),\n",
    "# we will assume you used one of the first three options,\n",
    "# but never the last one\n",
    "# To access the contents of the module, you can now use whatever you imported\n",
    "arr = numpy.array([1, 2, 3])\n",
    "print('{0} is a {1}'.format(arr, type(arr)))\n",
    "print()\n",
    "\n",
    "# Numpy arrays have their own methods:\n",
    "arr_methods = dir(arr)\n",
    "arr_methods = [method for method in arr_methods if not method.startswith('_')]\n",
    "print('numpy.ndarray methods: {0}'.format(', '.join(arr_methods)))\n",
    "print()"
   ]
  }
 ],
 "metadata": {
  "kernelspec": {
   "display_name": "Python [conda env:python3]",
   "language": "python",
   "name": "conda-env-python3-py"
  },
  "language_info": {
   "codemirror_mode": {
    "name": "ipython",
    "version": 3
   },
   "file_extension": ".py",
   "mimetype": "text/x-python",
   "name": "python",
   "nbconvert_exporter": "python",
   "pygments_lexer": "ipython3",
   "version": "3.6.4"
  }
 },
 "nbformat": 4,
 "nbformat_minor": 2
}
