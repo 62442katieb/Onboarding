{
 "cells": [
  {
   "cell_type": "markdown",
   "metadata": {},
   "source": [
    "# Introduction to coding\n",
    "This is the most basic introduction we have to coding. We'll use bash as our example language, because the first programming you do will probably be in the terminal.\n",
    "\n",
    "## The terminal\n",
    "Here's a picture of the terminal. It's your main programmatic interface with the computer.\n",
    "<img src=\"https://www.softprayog.in/images/bash-terminal.png.pagespeed.ce.ehOXgscOn1.png\" width=\"400\"/>\n",
    "\n",
    "The group of programming languages that are generally used in the terminal are called \"shell languages.\" Of those languages, bash is the most common, and that's the one we'll focus on here.\n",
    "\n",
    "Ignore the next cell. We're just setting something up to make navigating later cells easier."
   ]
  },
  {
   "cell_type": "code",
   "execution_count": 1,
   "metadata": {},
   "outputs": [],
   "source": [
    "%%bash\n",
    "orig=`pwd`"
   ]
  },
  {
   "cell_type": "markdown",
   "metadata": {},
   "source": [
    "## Comments\n",
    "Let's start with something simple. In all programming languages, there is a way to separate comments from code. In bash, you can use the # character."
   ]
  },
  {
   "cell_type": "code",
   "execution_count": 2,
   "metadata": {},
   "outputs": [
    {
     "name": "stdout",
     "output_type": "stream",
     "text": [
      "This is code\n"
     ]
    }
   ],
   "source": [
    "%%bash\n",
    "\n",
    "echo This is code\n",
    "# This is not"
   ]
  },
  {
   "cell_type": "markdown",
   "metadata": {},
   "source": [
    "You might have noticed the %%bash at the top of the last cell. That is just a Jupyter shortcut that lets us use bash in our notebooks, instead of Python or R.\n",
    "\n",
    "## Common commands\n",
    "### man\n",
    "The first command you should know is `man`, because it tells you what you need to know about other commands.\n",
    "`man` simply refers to the manual associated with a given command. If you know a command exists, but don't know what it does or how to use it, use `man`.\n",
    "\n",
    "NOTE: If a man page is too long for the terminal, it will allow you to scroll through it. If you want to quit the man page without scrolling through the whole thing, simply type `q` into the terminal."
   ]
  },
  {
   "cell_type": "code",
   "execution_count": 3,
   "metadata": {
    "scrolled": false
   },
   "outputs": [
    {
     "name": "stdout",
     "output_type": "stream",
     "text": [
      "\n",
      "ECHO(1)                   BSD General Commands Manual                  ECHO(1)\n",
      "\n",
      "N\bNA\bAM\bME\bE\n",
      "     e\bec\bch\bho\bo -- write arguments to the standard output\n",
      "\n",
      "S\bSY\bYN\bNO\bOP\bPS\bSI\bIS\bS\n",
      "     e\bec\bch\bho\bo [-\b-n\bn] [_\bs_\bt_\br_\bi_\bn_\bg _\b._\b._\b.]\n",
      "\n",
      "D\bDE\bES\bSC\bCR\bRI\bIP\bPT\bTI\bIO\bON\bN\n",
      "     The e\bec\bch\bho\bo utility writes any specified operands, separated by single blank\n",
      "     (` ') characters and followed by a newline (`\\n') character, to the stan-\n",
      "     dard output.\n",
      "\n",
      "     The following option is available:\n",
      "\n",
      "     -\b-n\bn    Do not print the trailing newline character.  This may also be\n",
      "           achieved by appending `\\c' to the end of the string, as is done by\n",
      "           iBCS2 compatible systems.  Note that this option as well as the\n",
      "           effect of `\\c' are implementation-defined in IEEE Std 1003.1-2001\n",
      "           (``POSIX.1'') as amended by Cor. 1-2002.  Applications aiming for\n",
      "           maximum portability are strongly encouraged to use printf(1) to\n",
      "           suppress the newline character.\n",
      "\n",
      "     Some shells may provide a builtin e\bec\bch\bho\bo command which is similar or iden-\n",
      "     tical to this utility.  Most notably, the builtin e\bec\bch\bho\bo in sh(1) does not\n",
      "     accept the -\b-n\bn option.  Consult the builtin(1) manual page.\n",
      "\n",
      "E\bEX\bXI\bIT\bT S\bST\bTA\bAT\bTU\bUS\bS\n",
      "     The e\bec\bch\bho\bo utility exits 0 on success, and >0 if an error occurs.\n",
      "\n",
      "S\bSE\bEE\bE A\bAL\bLS\bSO\bO\n",
      "     builtin(1), csh(1), printf(1), sh(1)\n",
      "\n",
      "S\bST\bTA\bAN\bND\bDA\bAR\bRD\bDS\bS\n",
      "     The e\bec\bch\bho\bo utility conforms to IEEE Std 1003.1-2001 (``POSIX.1'') as\n",
      "     amended by Cor. 1-2002.\n",
      "\n",
      "BSD                             April 12, 2003                             BSD\n"
     ]
    }
   ],
   "source": [
    "%%bash\n",
    "# For example, let's see what the command \"echo\" does\n",
    "man echo"
   ]
  },
  {
   "cell_type": "markdown",
   "metadata": {},
   "source": [
    "### pwd\n",
    "`pwd` prints your current working directory (i.e., the folder you are in within the terminal)"
   ]
  },
  {
   "cell_type": "code",
   "execution_count": 4,
   "metadata": {},
   "outputs": [
    {
     "name": "stdout",
     "output_type": "stream",
     "text": [
      "/Users/tsalo/Documents/nbc/Onboarding/coding-exercises\n"
     ]
    }
   ],
   "source": [
    "%%bash\n",
    "pwd"
   ]
  },
  {
   "cell_type": "markdown",
   "metadata": {},
   "source": [
    "### cd\n",
    "`cd` changes your directory\n",
    "In bash, there are some helpful characters to know that you'll commonly use with `cd`:\n",
    "- `~`: your home directory\n",
    "- `.`: the directory you're in\n",
    "- `..`: the parent directory (one up from whatever you're referencing)\n",
    "\n",
    "Let's test those out."
   ]
  },
  {
   "cell_type": "code",
   "execution_count": 5,
   "metadata": {},
   "outputs": [
    {
     "name": "stdout",
     "output_type": "stream",
     "text": [
      "/Users/tsalo/Documents/nbc/Onboarding/coding-exercises\n",
      "/Users/tsalo/Documents/nbc/Onboarding\n",
      "/Users/tsalo/Documents/nbc/Onboarding\n",
      "/Users/tsalo\n",
      "/Users/tsalo/Documents\n",
      "/Users/tsalo/Documents/notebooks\n",
      "/Users/tsalo/Documents/notebooks\n"
     ]
    },
    {
     "name": "stderr",
     "output_type": "stream",
     "text": [
      "bash: line 32: cd: notebooks/: No such file or directory\n"
     ]
    }
   ],
   "source": [
    "%%bash\n",
    "pwd\n",
    "\n",
    "# back out one directory\n",
    "cd ..\n",
    "pwd\n",
    "\n",
    "# don't go anywhere\n",
    "cd .\n",
    "pwd\n",
    "\n",
    "# go to your home directory\n",
    "cd ~\n",
    "pwd\n",
    "\n",
    "# You should also know that there is a difference between\n",
    "# relative paths (paths to folders from where you are)\n",
    "# and absolute paths (paths to folders from the\n",
    "# computer's root directory)\n",
    "cd /Users/tsalo/Documents\n",
    "pwd\n",
    "\n",
    "# As long as you are in the above directory, these two\n",
    "# commands are equivalent\n",
    "cd notebooks/\n",
    "pwd\n",
    "\n",
    "cd /Users/tsalo/Documents/notebooks/\n",
    "pwd\n",
    "\n",
    "# But see what happens when you try to cd into a folder\n",
    "# you're already in\n",
    "cd notebooks/"
   ]
  },
  {
   "cell_type": "markdown",
   "metadata": {},
   "source": [
    "### ls\n",
    "`ls` lists the contents of a folder. There are a lot of options associated with `ls`, although printing out the `man` page here would take up too much space, so we'll simply list a few of the more important ones.\n",
    "\n",
    "- `l`: list files/folders in long form (i.e., with extra information about the size of the files/folders and their owners\n",
    "- `a`: list _all_ files/folders. By default, `ls` does not show \"hidden\" files/folders, which are ones with names that start with a period (e.g., `.bashrc`)\n",
    "- `t`: list files/folders in order of when they were updated. By default, `ls` lists files/folders alphabetically.\n",
    "- `r`: reverse the order in while files/folders are listed. For example, in conjunction with `t`, you can list files/folders so that the most recent appear at the bottom, rather than the top."
   ]
  },
  {
   "cell_type": "code",
   "execution_count": 6,
   "metadata": {},
   "outputs": [
    {
     "name": "stdout",
     "output_type": "stream",
     "text": [
      "Here is the standard ls:\n",
      "intro_coding.ipynb\n",
      "mri_data.ipynb\n",
      "python.ipynb\n",
      "working_with_spreadsheets.ipynb\n",
      "\n",
      "Here is ls -l:\n",
      "total 392\n",
      "-rw-r--r--  1 tsalo  AD\\Domain Users   10508 Apr 24 11:17 intro_coding.ipynb\n",
      "-rw-r--r--  1 tsalo  AD\\Domain Users  166771 Apr 23 08:31 mri_data.ipynb\n",
      "-rw-r--r--  1 tsalo  AD\\Domain Users   13346 Apr 23 09:28 python.ipynb\n",
      "-rw-r--r--  1 tsalo  AD\\Domain Users    1057 Apr 21 18:37 working_with_spreadsheets.ipynb\n",
      "\n",
      "Check out the more complicated ls -ltra:\n",
      "total 392\n",
      "-rw-r--r--  1 tsalo  AD\\Domain Users    1057 Apr 21 18:37 working_with_spreadsheets.ipynb\n",
      "drwxr-xr-x@ 7 tsalo  AD\\Domain Users     238 Apr 21 18:51 ..\n",
      "-rw-r--r--  1 tsalo  AD\\Domain Users  166771 Apr 23 08:31 mri_data.ipynb\n",
      "-rw-r--r--  1 tsalo  AD\\Domain Users   13346 Apr 23 09:28 python.ipynb\n",
      "-rw-r--r--  1 tsalo  AD\\Domain Users   10508 Apr 24 11:17 intro_coding.ipynb\n",
      "drwxr-xr-x  6 tsalo  AD\\Domain Users     204 Apr 24 11:17 .ipynb_checkpoints\n",
      "drwxr-xr-x  7 tsalo  AD\\Domain Users     238 Apr 24 11:17 .\n"
     ]
    }
   ],
   "source": [
    "%%bash\n",
    "echo Here is the standard ls:\n",
    "ls\n",
    "\n",
    "echo\n",
    "echo Here is ls -l:\n",
    "ls -l\n",
    "\n",
    "echo\n",
    "echo Check out the more complicated ls -ltra:\n",
    "ls -ltra"
   ]
  },
  {
   "cell_type": "code",
   "execution_count": null,
   "metadata": {},
   "outputs": [],
   "source": []
  }
 ],
 "metadata": {
  "kernelspec": {
   "display_name": "Python [conda env:python3]",
   "language": "python",
   "name": "conda-env-python3-py"
  },
  "language_info": {
   "codemirror_mode": {
    "name": "ipython",
    "version": 3
   },
   "file_extension": ".py",
   "mimetype": "text/x-python",
   "name": "python",
   "nbconvert_exporter": "python",
   "pygments_lexer": "ipython3",
   "version": "3.6.4"
  }
 },
 "nbformat": 4,
 "nbformat_minor": 2
}
